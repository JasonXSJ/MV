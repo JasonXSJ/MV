{
 "cells": [
  {
   "cell_type": "code",
   "execution_count": 1,
   "id": "019c068d",
   "metadata": {},
   "outputs": [
    {
     "name": "stdout",
     "output_type": "stream",
     "text": [
      "Finish copying Parasitized class!\n",
      "Finish copying Uninfected class!\n"
     ]
    }
   ],
   "source": [
    "import os\n",
    "import random\n",
    "import shutil\n",
    "\n",
    "datapath = 'data/cell_images/cell_images'\n",
    "train_data = './train_data/train'\n",
    "test_data = './train_data/test'\n",
    "\n",
    "if not os.path.exists(train_data):\n",
    "    os.makedirs(train_data)\n",
    "if not os.path.exists(test_data):\n",
    "    os.makedirs(test_data)\n",
    "\n",
    "for fn in os.listdir(datapath):\n",
    "    files = os.listdir(os.path.join(datapath, fn))\n",
    "    i = int(len(files) * 0.15)\n",
    "    \n",
    "    random_files = random.sample(files, len(files))\n",
    "\n",
    "    if not os.path.exists(os.path.join(train_data, fn)):\n",
    "        os.mkdir(os.path.join(train_data, fn))\n",
    "    if not os.path.exists(os.path.join(test_data, fn)):\n",
    "        os.mkdir(os.path.join(test_data, fn))\n",
    "\n",
    "    for j, fm in enumerate(random_files):\n",
    "        if j < i:\n",
    "            target_folder = (os.path.join(test_data, fn))\n",
    "        else:\n",
    "            target_folder = (os.path.join(train_data, fn))\n",
    "\n",
    "        source_path = os.path.join(datapath, fn, fm)\n",
    "        # print(target_folder)\n",
    "        target_path = os.path.join(target_folder, fm)\n",
    "        shutil.copy(source_path, target_path)\n",
    "\n",
    "    print(\"Finish copying {} class!\".format(fn))"
   ]
  },
  {
   "cell_type": "code",
   "execution_count": 2,
   "id": "81db8605",
   "metadata": {},
   "outputs": [
    {
     "name": "stdout",
     "output_type": "stream",
     "text": [
      "Found 24223 images belonging to 2 classes.\n",
      "Found 2691 images belonging to 2 classes.\n"
     ]
    }
   ],
   "source": [
    "import tensorflow as tf\n",
    "import numpy as np\n",
    "\n",
    "\n",
    "data_dir = './train_data/train'\n",
    "num_classes = 2\n",
    "batch_size = 64\n",
    "target_size = (224, 224)\n",
    "\n",
    "\n",
    "train_datagen = tf.keras.preprocessing.image.ImageDataGenerator(\n",
    "    rescale=1. / 255,  \n",
    "    validation_split=0.1, \n",
    "    # rotation_range=20,  \n",
    "    # width_shift_range=0.1,  \n",
    "    # height_shift_range=0.1, \n",
    "    # shear_range=0.2,  \n",
    "    # zoom_range=0.2,  \n",
    "    horizontal_flip=True  \n",
    ")\n",
    "\n",
    "train_dataset = train_datagen.flow_from_directory(\n",
    "    data_dir,\n",
    "    target_size=target_size,\n",
    "    batch_size=batch_size,\n",
    "    color_mode='rgb',\n",
    "    class_mode='categorical',\n",
    "    subset='training',\n",
    "    shuffle=True\n",
    ")\n",
    "\n",
    "val_dataset = train_datagen.flow_from_directory(\n",
    "    data_dir,\n",
    "    target_size=target_size,\n",
    "    batch_size=batch_size,\n",
    "    color_mode='rgb',\n",
    "    class_mode='categorical',\n",
    "    subset='validation',\n",
    "    shuffle=False\n",
    ")"
   ]
  },
  {
   "cell_type": "code",
   "execution_count": 3,
   "id": "ffbbeed2",
   "metadata": {},
   "outputs": [
    {
     "name": "stdout",
     "output_type": "stream",
     "text": [
      "Found 7621 images belonging to 2 classes.\n"
     ]
    }
   ],
   "source": [
    "\n",
    "test_data_dir = './train_data/test' \n",
    "test_datagen = tf.keras.preprocessing.image.ImageDataGenerator(\n",
    "    rescale=1. / 255,  \n",
    "    # rotation_range=20,  \n",
    "    # width_shift_range=0.1,  \n",
    "    # height_shift_range=0.1,  \n",
    "    # shear_range=0.2,  \n",
    "    # zoom_range=0.2,  \n",
    "    horizontal_flip=True  \n",
    ")\n",
    "test_dataset = test_datagen.flow_from_directory(\n",
    "    test_data_dir,\n",
    "    target_size=target_size,\n",
    "    batch_size=batch_size,\n",
    "    color_mode='rgb',\n",
    "    class_mode='categorical',\n",
    "    shuffle=False\n",
    ")\n"
   ]
  },
  {
   "cell_type": "code",
   "execution_count": 4,
   "id": "a2bdac19",
   "metadata": {},
   "outputs": [],
   "source": [
    "\n",
    "class AttentionBlock(tf.keras.layers.Layer):\n",
    "    def __init__(self):\n",
    "        super(AttentionBlock, self).__init__()\n",
    "        self.conv = tf.keras.layers.Conv2D(64, (1, 1), activation='softmax')\n",
    "\n",
    "    def call(self, inputs):\n",
    "        attention_weights = self.conv(inputs)\n",
    "\n",
    "        weighted_sum = attention_weights * inputs\n",
    "\n",
    "        # output = tf.reduce_sum(weighted_sum, axis=[2, 3])\n",
    "        return weighted_sum\n",
    "\n",
    "\n",
    "class CNNWithAttention(tf.keras.Model):\n",
    "    def __init__(self):\n",
    "        super(CNNWithAttention, self).__init__()\n",
    "        self.conv1 = tf.keras.layers.Conv2D(32, (3, 3), padding='same', activation='relu')\n",
    "        self.max_pool = tf.keras.layers.MaxPooling2D(pool_size=(4, 4), strides=2)\n",
    "        self.conv2 = tf.keras.layers.Conv2D(64, (3, 3), padding='same', activation='relu')\n",
    "        self.attention = AttentionBlock()\n",
    "        self.flatten = tf.keras.layers.Flatten()\n",
    "        self.fc1 = tf.keras.layers.Dense(64, activation='relu')\n",
    "        self.fc2 = tf.keras.layers.Dense(2, activation='softmax')\n",
    "\n",
    "    def call(self, x):\n",
    "        x = self.conv1(x)\n",
    "        x = self.max_pool(x)\n",
    "        x = self.conv2(x)\n",
    "        x = self.max_pool(x)\n",
    "        attention_weights = self.attention(x)\n",
    "        # x = x * tf.expand_dims(attention_weights, axis=-1)\n",
    "        x = tf.reduce_sum(attention_weights, axis=[1, 2])\n",
    "        x = self.flatten(x)\n",
    "        x = self.fc1(x)\n",
    "        x = self.fc2(x)\n",
    "        return x\n",
    "\n",
    "\n",
    "class EnsembleCNN(tf.keras.Model):\n",
    "    def __init__(self, num_networks=2):\n",
    "        super(EnsembleCNN, self).__init__()\n",
    "        self.num_networks = num_networks\n",
    "        self.networks = [CNNWithAttention() for _ in range(num_networks)]\n",
    "\n",
    "    def call(self, x):\n",
    "        predictions = tf.zeros((tf.shape(x)[0], 2))\n",
    "        for i in range(self.num_networks):\n",
    "            predictions += self.networks[i](x)\n",
    "        predictions /= self.num_networks\n",
    "        return predictions\n"
   ]
  },
  {
   "cell_type": "code",
   "execution_count": 5,
   "id": "13bca818",
   "metadata": {},
   "outputs": [],
   "source": [
    "\n",
    "def custom_sparse_categorical_crossentropy(y_true, y_pred):\n",
    "\n",
    "   \n",
    "    loss = -tf.reduce_sum(y_true * tf.math.log(y_pred), axis=-1)\n",
    "\n",
    "    \n",
    "    return tf.reduce_mean(loss)\n"
   ]
  },
  {
   "cell_type": "code",
   "execution_count": 6,
   "id": "04b77c8d",
   "metadata": {},
   "outputs": [],
   "source": [
    "\n",
    "class LossAccuracyHistory(tf.keras.callbacks.Callback):\n",
    "    def __init__(self):\n",
    "        self.losses = []\n",
    "        self.accuracies = []\n",
    "\n",
    "    def on_epoch_end(self, epoch, logs=None):\n",
    "        self.losses.append(logs['loss'])\n",
    "        self.accuracies.append(logs['acc'])"
   ]
  },
  {
   "cell_type": "code",
   "execution_count": 7,
   "id": "8cd9d729",
   "metadata": {},
   "outputs": [],
   "source": [
    "\n",
    "model = EnsembleCNN(num_networks=2)\n",
    "learning_rate = 0.0001\n",
    "epochs = 10\n",
    "optimizer = tf.keras.optimizers.Adam(learning_rate)\n",
    "\n",
    "model.compile(optimizer = optimizer, loss = custom_sparse_categorical_crossentropy, metrics=['acc'])\n",
    "\n",
    "\n",
    "checkpoint_path = 'best_model.h5'\n",
    "checkpoint_callback = tf.keras.callbacks.ModelCheckpoint(checkpoint_path,\n",
    "                                                         save_best_only=True,\n",
    "                                                         save_weights_only=True,\n",
    "                                                         monitor='acc',\n",
    "                                                         mode='max',\n",
    "                                                         verbose=1)\n",
    "history_callback = LossAccuracyHistory()"
   ]
  },
  {
   "cell_type": "code",
   "execution_count": 8,
   "id": "41fcc941",
   "metadata": {},
   "outputs": [
    {
     "name": "stdout",
     "output_type": "stream",
     "text": [
      "Epoch 1/10\n",
      "379/379 [==============================] - ETA: 0s - loss: 0.6785 - acc: 0.5009\n",
      "Epoch 1: acc improved from -inf to 0.50089, saving model to best_model.h5\n",
      "379/379 [==============================] - 861s 2s/step - loss: 0.6785 - acc: 0.5009 - val_loss: 0.6490 - val_acc: 0.5009\n",
      "Epoch 2/10\n",
      "379/379 [==============================] - ETA: 0s - loss: 0.6495 - acc: 0.5608\n",
      "Epoch 2: acc improved from 0.50089 to 0.56083, saving model to best_model.h5\n",
      "379/379 [==============================] - 857s 2s/step - loss: 0.6495 - acc: 0.5608 - val_loss: 0.6149 - val_acc: 0.6481\n",
      "Epoch 3/10\n",
      "379/379 [==============================] - ETA: 0s - loss: 0.5910 - acc: 0.6885\n",
      "Epoch 3: acc improved from 0.56083 to 0.68852, saving model to best_model.h5\n",
      "379/379 [==============================] - 864s 2s/step - loss: 0.5910 - acc: 0.6885 - val_loss: 0.6171 - val_acc: 0.6407\n",
      "Epoch 4/10\n",
      "379/379 [==============================] - ETA: 0s - loss: 0.5476 - acc: 0.7357\n",
      "Epoch 4: acc improved from 0.68852 to 0.73571, saving model to best_model.h5\n",
      "379/379 [==============================] - 848s 2s/step - loss: 0.5476 - acc: 0.7357 - val_loss: 0.4795 - val_acc: 0.8242\n",
      "Epoch 5/10\n",
      "379/379 [==============================] - ETA: 0s - loss: 0.4757 - acc: 0.8129\n",
      "Epoch 5: acc improved from 0.73571 to 0.81286, saving model to best_model.h5\n",
      "379/379 [==============================] - 841s 2s/step - loss: 0.4757 - acc: 0.8129 - val_loss: 0.4107 - val_acc: 0.8863\n",
      "Epoch 6/10\n",
      "379/379 [==============================] - ETA: 0s - loss: 0.3886 - acc: 0.8846\n",
      "Epoch 6: acc improved from 0.81286 to 0.88457, saving model to best_model.h5\n",
      "379/379 [==============================] - 843s 2s/step - loss: 0.3886 - acc: 0.8846 - val_loss: 0.3862 - val_acc: 0.9067\n",
      "Epoch 7/10\n",
      "379/379 [==============================] - ETA: 0s - loss: 0.3361 - acc: 0.9157\n",
      "Epoch 7: acc improved from 0.88457 to 0.91574, saving model to best_model.h5\n",
      "379/379 [==============================] - 840s 2s/step - loss: 0.3361 - acc: 0.9157 - val_loss: 0.3746 - val_acc: 0.9149\n",
      "Epoch 8/10\n",
      "379/379 [==============================] - ETA: 0s - loss: 0.3069 - acc: 0.9275\n",
      "Epoch 8: acc improved from 0.91574 to 0.92751, saving model to best_model.h5\n",
      "379/379 [==============================] - 839s 2s/step - loss: 0.3069 - acc: 0.9275 - val_loss: 0.3143 - val_acc: 0.9134\n",
      "Epoch 9/10\n",
      "379/379 [==============================] - ETA: 0s - loss: 0.2746 - acc: 0.9346\n",
      "Epoch 9: acc improved from 0.92751 to 0.93465, saving model to best_model.h5\n",
      "379/379 [==============================] - 843s 2s/step - loss: 0.2746 - acc: 0.9346 - val_loss: 0.2992 - val_acc: 0.9220\n",
      "Epoch 10/10\n",
      "379/379 [==============================] - ETA: 0s - loss: 0.2326 - acc: 0.9381\n",
      "Epoch 10: acc improved from 0.93465 to 0.93808, saving model to best_model.h5\n",
      "379/379 [==============================] - 850s 2s/step - loss: 0.2326 - acc: 0.9381 - val_loss: 0.2247 - val_acc: 0.9227\n"
     ]
    },
    {
     "data": {
      "text/plain": [
       "<keras.callbacks.History at 0x2a37b7113f0>"
      ]
     },
     "execution_count": 8,
     "metadata": {},
     "output_type": "execute_result"
    }
   ],
   "source": [
    "\n",
    "model.fit(train_dataset,\n",
    "          epochs=epochs,\n",
    "          validation_data=val_dataset,\n",
    "          callbacks=[checkpoint_callback, history_callback])"
   ]
  },
  {
   "cell_type": "code",
   "execution_count": 34,
   "id": "7d1afccb",
   "metadata": {},
   "outputs": [
    {
     "data": {
      "image/png": "[encoded data removed]",
      "text/plain": [
       "<Figure size 432x288 with 2 Axes>"
      ]
     },
     "metadata": {
      "needs_background": "light"
     },
     "output_type": "display_data"
    }
   ],
   "source": [
    "\n",
    "import matplotlib.pyplot as plt\n",
    "losses = history_callback.losses\n",
    "accuracies = history_callback.accuracies\n",
    "epochs_range = range(1, len(losses) + 1)\n",
    "\n",
    "\n",
    "plt.subplot(2, 1, 1)\n",
    "plt.plot(epochs_range, losses, label='Training Loss')\n",
    "plt.xlabel('Epochs')\n",
    "plt.ylabel('Loss')\n",
    "plt.legend()\n",
    "\n",
    "plt.subplot(2, 1, 2)\n",
    "plt.plot(epochs_range, accuracies, label='Training Accuracy')\n",
    "plt.xlabel('Epochs')\n",
    "plt.ylabel('Accuracy')\n",
    "plt.legend()\n",
    "\n",
    "plt.tight_layout()\n",
    "plt.savefig(\"train.png\")\n",
    "\n",
    "plt.show()"
   ]
  },
  {
   "cell_type": "code",
   "execution_count": 35,
   "id": "cddb1f6b",
   "metadata": {},
   "outputs": [
    {
     "name": "stdout",
     "output_type": "stream",
     "text": [
      "2/2 [==============================] - 1s 400ms/step\n",
      "2/2 [==============================] - 1s 412ms/step\n",
      "2/2 [==============================] - 1s 389ms/step\n",
      "2/2 [==============================] - 1s 410ms/step\n",
      "2/2 [==============================] - 1s 403ms/step\n",
      "2/2 [==============================] - 1s 415ms/step\n",
      "2/2 [==============================] - 1s 420ms/step\n",
      "2/2 [==============================] - 1s 399ms/step\n",
      "2/2 [==============================] - 1s 392ms/step\n",
      "2/2 [==============================] - 1s 439ms/step\n",
      "2/2 [==============================] - 1s 422ms/step\n",
      "2/2 [==============================] - 1s 414ms/step\n",
      "2/2 [==============================] - 1s 405ms/step\n",
      "2/2 [==============================] - 1s 396ms/step\n",
      "2/2 [==============================] - 1s 419ms/step\n",
      "2/2 [==============================] - 1s 396ms/step\n",
      "2/2 [==============================] - 1s 395ms/step\n",
      "2/2 [==============================] - 1s 386ms/step\n",
      "2/2 [==============================] - 1s 396ms/step\n",
      "2/2 [==============================] - 1s 413ms/step\n",
      "2/2 [==============================] - 1s 399ms/step\n",
      "2/2 [==============================] - 1s 412ms/step\n",
      "2/2 [==============================] - 1s 427ms/step\n",
      "2/2 [==============================] - 1s 402ms/step\n",
      "2/2 [==============================] - 1s 437ms/step\n",
      "2/2 [==============================] - 1s 416ms/step\n",
      "2/2 [==============================] - 1s 448ms/step\n",
      "2/2 [==============================] - 1s 451ms/step\n",
      "2/2 [==============================] - 1s 447ms/step\n",
      "2/2 [==============================] - 1s 450ms/step\n",
      "2/2 [==============================] - 1s 421ms/step\n",
      "2/2 [==============================] - 1s 447ms/step\n",
      "2/2 [==============================] - 1s 431ms/step\n",
      "2/2 [==============================] - 1s 437ms/step\n",
      "2/2 [==============================] - 1s 526ms/step\n",
      "2/2 [==============================] - 1s 571ms/step\n",
      "2/2 [==============================] - 1s 431ms/step\n",
      "2/2 [==============================] - 1s 525ms/step\n",
      "2/2 [==============================] - 1s 544ms/step\n",
      "2/2 [==============================] - 1s 455ms/step\n",
      "2/2 [==============================] - 1s 504ms/step\n",
      "2/2 [==============================] - 1s 437ms/step\n",
      "2/2 [==============================] - 1s 395ms/step\n",
      "2/2 [==============================] - 1s 401ms/step\n",
      "2/2 [==============================] - 1s 450ms/step\n",
      "2/2 [==============================] - 1s 460ms/step\n",
      "2/2 [==============================] - 1s 420ms/step\n",
      "2/2 [==============================] - 1s 404ms/step\n",
      "2/2 [==============================] - 1s 417ms/step\n",
      "2/2 [==============================] - 1s 400ms/step\n",
      "2/2 [==============================] - 1s 389ms/step\n",
      "2/2 [==============================] - 1s 399ms/step\n",
      "2/2 [==============================] - 1s 395ms/step\n",
      "2/2 [==============================] - 1s 400ms/step\n",
      "2/2 [==============================] - 1s 397ms/step\n",
      "2/2 [==============================] - 1s 402ms/step\n",
      "2/2 [==============================] - 1s 420ms/step\n",
      "2/2 [==============================] - 1s 407ms/step\n",
      "2/2 [==============================] - 1s 422ms/step\n",
      "2/2 [==============================] - 1s 413ms/step\n",
      "2/2 [==============================] - 1s 444ms/step\n",
      "2/2 [==============================] - 1s 427ms/step\n",
      "2/2 [==============================] - 1s 399ms/step\n",
      "2/2 [==============================] - 1s 414ms/step\n",
      "2/2 [==============================] - 1s 189ms/step\n",
      "ROC-AUC Score: 0.9230\n",
      "Recall Score: 0.9043\n",
      "Precision Score: 0.9393\n",
      "F1 Score: 0.9215\n",
      "Confusion Matrix:\n",
      "[[1950  121]\n",
      " [ 198 1872]]\n"
     ]
    },
    {
     "data": {
      "image/png": "[encoded data removed]",
      "text/plain": [
       "<Figure size 576x432 with 1 Axes>"
      ]
     },
     "metadata": {
      "needs_background": "light"
     },
     "output_type": "display_data"
    },
    {
     "data": {
      "image/png": "[encoded data removed]",
      "text/plain": [
       "<Figure size 576x432 with 1 Axes>"
      ]
     },
     "metadata": {
      "needs_background": "light"
     },
     "output_type": "display_data"
    },
    {
     "data": {
      "image/png": "[encoded data removed]",
      "text/plain": [
       "<Figure size 576x432 with 1 Axes>"
      ]
     },
     "metadata": {
      "needs_background": "light"
     },
     "output_type": "display_data"
    }
   ],
   "source": [
    "\n",
    "from sklearn.metrics import roc_auc_score, recall_score, precision_score, confusion_matrix, f1_score, precision_recall_curve,roc_curve\n",
    "\n",
    "class_labels = [\"Parasitized\",\"Uninfected\"]\n",
    "y_pred_prob = []\n",
    "batch_size = test_dataset.batch_size\n",
    "num_samples = len(test_dataset.labels)  # 测试集样本数\n",
    "\n",
    "\n",
    "for _ in range(int(np.ceil(num_samples / batch_size))):\n",
    "    images, labels = next(test_dataset)\n",
    "    predictions = model.predict(images)\n",
    "    y_pred_prob.append(predictions)\n",
    "\n",
    "\n",
    "\n",
    "y_pred_prob = tf.concat(y_pred_prob, axis=0)\n",
    "\n",
    "\n",
    "\n",
    "y_pred_prob = tf.argmax(y_pred_prob, axis=1).numpy()\n",
    "y_true = test_dataset.labels\n",
    "\n",
    "\n",
    "roc_auc = roc_auc_score(y_true, y_pred_prob)\n",
    "recall = recall_score(y_true, y_pred_prob)\n",
    "precision = precision_score(y_true, y_pred_prob)\n",
    "f1 = f1_score(y_true, y_pred_prob)\n",
    "\n",
    "print(f'ROC-AUC Score: {roc_auc:.4f}')\n",
    "print(f'Recall Score: {recall:.4f}')\n",
    "print(f'Precision Score: {precision:.4f}')\n",
    "print(f'F1 Score: {f1:.4f}')\n",
    "\n",
    "\n",
    "confusion_mat = confusion_matrix(y_true, y_pred_prob)\n",
    "print('Confusion Matrix:')\n",
    "print(confusion_mat)\n",
    "\n",
    "import matplotlib.pyplot as plt\n",
    "import seaborn as sns\n",
    "\n",
    "def plot_confusion_matrix(confusion_mat, classes):\n",
    "    \"\"\"\n",
    "    Plot the confusion matrix as a heatmap.\n",
    "    \"\"\"\n",
    "    plt.figure(figsize=(8, 6))\n",
    "    sns.heatmap(confusion_mat, annot=True, fmt='d', cmap='Blues', cbar=False,\n",
    "                xticklabels=classes, yticklabels=classes)\n",
    "    plt.xlabel('Predicted labels')\n",
    "    plt.ylabel('True labels')\n",
    "    plt.title('Confusion Matrix')\n",
    "    plt.savefig(\"Confusion_Matrix.png\")\n",
    "    plt.show()\n",
    "\n",
    "\n",
    "plot_confusion_matrix(confusion_mat, classes=class_labels)\n",
    "\n",
    "\n",
    "\n",
    "plt.figure(figsize=(8, 6))\n",
    "precision, recall, thresholds = precision_recall_curve(y_true, y_pred_prob)\n",
    "plt.plot(recall, precision, marker='.')\n",
    "plt.xlabel('Recall')\n",
    "plt.ylabel('Precision')\n",
    "plt.title('Precision-Recall Curve')\n",
    "plt.savefig(\"Precision-Recall_Curve.png\")\n",
    "plt.show()\n",
    "\n",
    "\n",
    "plt.figure(figsize=(8, 6))\n",
    "fpr, tpr, _ = roc_curve(y_true, y_pred_prob)\n",
    "plt.plot(fpr, tpr, marker='.', label='ROC Curve')\n",
    "plt.xlabel('False Positive Rate')\n",
    "plt.ylabel('True Positive Rate')\n",
    "plt.title('ROC Curves')\n",
    "plt.savefig(\"ROC_Curves.png\")\n",
    "plt.show()"
   ]
  },
  {
   "cell_type": "code",
   "execution_count": null,
   "id": "a17f5ebe",
   "metadata": {},
   "outputs": [],
   "source": []
  }
 ],
 "metadata": {
  "kernelspec": {
   "display_name": "Python 3 (ipykernel)",
   "language": "python",
   "name": "python3"
  },
  "language_info": {
   "codemirror_mode": {
    "name": "ipython",
    "version": 3
   },
   "file_extension": ".py",
   "mimetype": "text/x-python",
   "name": "python",
   "nbconvert_exporter": "python",
   "pygments_lexer": "ipython3",
   "version": "3.10.10"
  }
 },
 "nbformat": 4,
 "nbformat_minor": 5
}
